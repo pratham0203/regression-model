{
 "cells": [
  {
   "cell_type": "code",
   "execution_count": 1,
   "metadata": {},
   "outputs": [],
   "source": [
    "import pandas as pd\n",
    "import numpy as np\n",
    "import matplotlib.pyplot as plt\n",
    "import pylab as py\n",
    "%matplotlib inline"
   ]
  },
  {
   "cell_type": "code",
   "execution_count": 2,
   "metadata": {},
   "outputs": [
    {
     "data": {
      "text/plain": [
       "'C:\\\\Users\\\\lenovo\\\\Documents\\\\Jupyter Projects\\\\Regression Models\\\\Simple Regression Models'"
      ]
     },
     "execution_count": 2,
     "metadata": {},
     "output_type": "execute_result"
    }
   ],
   "source": [
    "pwd"
   ]
  },
  {
   "cell_type": "code",
   "execution_count": 5,
   "metadata": {},
   "outputs": [
    {
     "data": {
      "text/html": [
       "<div>\n",
       "<style scoped>\n",
       "    .dataframe tbody tr th:only-of-type {\n",
       "        vertical-align: middle;\n",
       "    }\n",
       "\n",
       "    .dataframe tbody tr th {\n",
       "        vertical-align: top;\n",
       "    }\n",
       "\n",
       "    .dataframe thead th {\n",
       "        text-align: right;\n",
       "    }\n",
       "</style>\n",
       "<table border=\"1\" class=\"dataframe\">\n",
       "  <thead>\n",
       "    <tr style=\"text-align: right;\">\n",
       "      <th></th>\n",
       "      <th>Series reference</th>\n",
       "      <th>Period</th>\n",
       "      <th>Initially_published</th>\n",
       "      <th>Revised</th>\n",
       "    </tr>\n",
       "  </thead>\n",
       "  <tbody>\n",
       "    <tr>\n",
       "      <th>0</th>\n",
       "      <td>CPIQ.SE907303</td>\n",
       "      <td>2017.03</td>\n",
       "      <td>1170.192308</td>\n",
       "      <td>1172</td>\n",
       "    </tr>\n",
       "    <tr>\n",
       "      <th>1</th>\n",
       "      <td>CPIQ.SE907303</td>\n",
       "      <td>2017.06</td>\n",
       "      <td>1000.000000</td>\n",
       "      <td>1000</td>\n",
       "    </tr>\n",
       "    <tr>\n",
       "      <th>2</th>\n",
       "      <td>CPIQ.SE907303</td>\n",
       "      <td>2017.09</td>\n",
       "      <td>1040.384615</td>\n",
       "      <td>1021</td>\n",
       "    </tr>\n",
       "    <tr>\n",
       "      <th>3</th>\n",
       "      <td>CPIQ.SE907303</td>\n",
       "      <td>2017.12</td>\n",
       "      <td>1105.000000</td>\n",
       "      <td>1111</td>\n",
       "    </tr>\n",
       "    <tr>\n",
       "      <th>4</th>\n",
       "      <td>CPIQ.SE907303</td>\n",
       "      <td>2018.03</td>\n",
       "      <td>1124.000000</td>\n",
       "      <td>1117</td>\n",
       "    </tr>\n",
       "  </tbody>\n",
       "</table>\n",
       "</div>"
      ],
      "text/plain": [
       "  Series reference   Period  Initially_published  Revised\n",
       "0    CPIQ.SE907303  2017.03          1170.192308     1172\n",
       "1    CPIQ.SE907303  2017.06          1000.000000     1000\n",
       "2    CPIQ.SE907303  2017.09          1040.384615     1021\n",
       "3    CPIQ.SE907303  2017.12          1105.000000     1111\n",
       "4    CPIQ.SE907303  2018.03          1124.000000     1117"
      ]
     },
     "execution_count": 5,
     "metadata": {},
     "output_type": "execute_result"
    }
   ],
   "source": [
    "df=pd.read_csv('C:\\\\Users\\\\lenovo\\\\Documents\\\\Jupyter Projects\\\\ConsumerPriceIndex.csv')\n",
    "df.head()"
   ]
  },
  {
   "cell_type": "code",
   "execution_count": 8,
   "metadata": {},
   "outputs": [
    {
     "data": {
      "image/png": "[encoded data removed]",
      "text/plain": [
       "<Figure size 432x288 with 1 Axes>"
      ]
     },
     "metadata": {
      "needs_background": "light"
     },
     "output_type": "display_data"
    }
   ],
   "source": [
    "plt.scatter(df.Initially_published,df.Revised)\n",
    "plt.xlabel(\"Initially published\",color='white',size=20)\n",
    "plt.ylabel(\"Revised\",color='white',size=20)\n",
    "plt.show()"
   ]
  },
  {
   "cell_type": "code",
   "execution_count": 9,
   "metadata": {},
   "outputs": [],
   "source": [
    "msk=np.random.rand(len(df))<0.3\n",
    "train=df[msk]\n",
    "test=df[~msk]"
   ]
  },
  {
   "cell_type": "code",
   "execution_count": 11,
   "metadata": {},
   "outputs": [
    {
     "name": "stdout",
     "output_type": "stream",
     "text": [
      "The Coefficient is :  0.9364253946137527\n",
      "The Intercept is :  63.93373312931885\n"
     ]
    }
   ],
   "source": [
    "from sklearn import linear_model\n",
    "regr=linear_model.LinearRegression()\n",
    "train_x=np.asanyarray(train[['Initially_published']])\n",
    "train_y=np.asanyarray(train[['Revised']])\n",
    "regr.fit(train_x,train_y)\n",
    "print(\"The Coefficient is : \",regr.coef_[0][0])\n",
    "print(\"The Intercept is : \",regr.intercept_[0])"
   ]
  },
  {
   "cell_type": "code",
   "execution_count": 20,
   "metadata": {},
   "outputs": [
    {
     "data": {
      "image/png": "[encoded data removed]",
      "text/plain": [
       "<Figure size 432x288 with 1 Axes>"
      ]
     },
     "metadata": {
      "needs_background": "light"
     },
     "output_type": "display_data"
    }
   ],
   "source": [
    "plt.scatter(train.Initially_published,train.Revised)\n",
    "plt.plot(train_x,train_x*regr.coef_[0][0]+regr.intercept_[0],color='red',alpha=0.5)\n",
    "plt.xlabel(\"Initially Published\",color='white',size=20)\n",
    "plt.ylabel(\"Revised\",color='white',size=20)\n",
    "plt.show()"
   ]
  },
  {
   "cell_type": "code",
   "execution_count": 18,
   "metadata": {},
   "outputs": [
    {
     "name": "stdout",
     "output_type": "stream",
     "text": [
      "The MAE is : 3.52 \n",
      "The MSE is : 34.10\n",
      "The Accuracy score is : 0.98 \n"
     ]
    }
   ],
   "source": [
    "from sklearn.metrics import r2_score\n",
    "test_x=np.asanyarray(test[['Initially_published']])\n",
    "test_y=np.asanyarray(test[['Revised']])\n",
    "test_y_hat=regr.predict(test_x)\n",
    "print(\"The MAE is : %.2f \" %np.mean(np.absolute(test_y_hat-test_y)))\n",
    "print(\"The MSE is : %.2f\" %np.mean((test_y_hat-test_y)**2))\n",
    "print(\"The Accuracy score is : %.2f \" %r2_score(test_y_hat,test_y))"
   ]
  }
 ],
 "metadata": {
  "kernelspec": {
   "display_name": "Python 3",
   "language": "python",
   "name": "python3"
  },
  "language_info": {
   "codemirror_mode": {
    "name": "ipython",
    "version": 3
   },
   "file_extension": ".py",
   "mimetype": "text/x-python",
   "name": "python",
   "nbconvert_exporter": "python",
   "pygments_lexer": "ipython3",
   "version": "3.8.2"
  }
 },
 "nbformat": 4,
 "nbformat_minor": 4
}
